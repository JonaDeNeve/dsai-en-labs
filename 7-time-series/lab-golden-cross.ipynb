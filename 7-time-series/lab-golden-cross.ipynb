{
 "cells": [
  {
   "cell_type": "markdown",
   "metadata": {},
   "source": [
    "# Lab time series analysis: golden cross\n",
    "\n",
    "A *Golden Cross* is the name of a pattern that is used in the technical analysis of stock prices. A Golden Cross occurs when a short-term moving average breaks above a long-term moving average. This is an indicator for the potential of a major rally on the stock (*bull market*). The long-term moving average is then considered to be a \"resistance level\", i.e. when the stock price drops towards that level, it will often quickly bounce up again.\n",
    "\n",
    "The dataset `SP500.csv` contains among others the closing price of the Standard & Poors 500, a stock market index tracking the performance of 500 large publicly traded companies in the USA. The data was collected by Hoseinzade & Haratizadeh (2019).\n",
    "\n",
    "- Import the CSV-file in a DataFrame, parse the `Date` column as a date and set it as the index. We will only use the variable `Close`, so you can drop all other variables.\n",
    "- Plot the time series to get an idea about the evolution over time of the S&P500 index."
   ]
  },
  {
   "cell_type": "code",
   "execution_count": 35,
   "metadata": {
    "id": "PwYaTAjzVNyI"
   },
   "outputs": [],
   "source": [
    "# Package imports\n",
    "import numpy as np                                  # \"Scientific computing\"\n",
    "import pandas as pd                                 # Dataframe\n",
    "\n",
    "import scipy.stats as stats                         # Statistical tests\n",
    "from sklearn.linear_model import LinearRegression   # Linear regression model\n",
    "\n",
    "import matplotlib.pyplot as plt                     # Basic visualisation\n",
    "from statsmodels.graphics.mosaicplot import mosaic  # Mosaic plot\n",
    "import seaborn as sns                               # Advanced dataviz"
   ]
  },
  {
   "cell_type": "code",
   "execution_count": 36,
   "metadata": {},
   "outputs": [
    {
     "data": {
      "text/html": [
       "<div>\n",
       "<style scoped>\n",
       "    .dataframe tbody tr th:only-of-type {\n",
       "        vertical-align: middle;\n",
       "    }\n",
       "\n",
       "    .dataframe tbody tr th {\n",
       "        vertical-align: top;\n",
       "    }\n",
       "\n",
       "    .dataframe thead th {\n",
       "        text-align: right;\n",
       "    }\n",
       "</style>\n",
       "<table border=\"1\" class=\"dataframe\">\n",
       "  <thead>\n",
       "    <tr style=\"text-align: right;\">\n",
       "      <th></th>\n",
       "      <th>Close</th>\n",
       "    </tr>\n",
       "    <tr>\n",
       "      <th>Date</th>\n",
       "      <th></th>\n",
       "    </tr>\n",
       "  </thead>\n",
       "  <tbody>\n",
       "    <tr>\n",
       "      <th>2009-12-31</th>\n",
       "      <td>1115.099976</td>\n",
       "    </tr>\n",
       "    <tr>\n",
       "      <th>2010-01-04</th>\n",
       "      <td>1132.989990</td>\n",
       "    </tr>\n",
       "    <tr>\n",
       "      <th>2010-01-05</th>\n",
       "      <td>1136.520020</td>\n",
       "    </tr>\n",
       "    <tr>\n",
       "      <th>2010-01-06</th>\n",
       "      <td>1137.140015</td>\n",
       "    </tr>\n",
       "    <tr>\n",
       "      <th>2010-01-07</th>\n",
       "      <td>1141.689941</td>\n",
       "    </tr>\n",
       "  </tbody>\n",
       "</table>\n",
       "</div>"
      ],
      "text/plain": [
       "                  Close\n",
       "Date                   \n",
       "2009-12-31  1115.099976\n",
       "2010-01-04  1132.989990\n",
       "2010-01-05  1136.520020\n",
       "2010-01-06  1137.140015\n",
       "2010-01-07  1141.689941"
      ]
     },
     "execution_count": 36,
     "metadata": {},
     "output_type": "execute_result"
    }
   ],
   "source": [
    "sp500 = pd.read_csv('../data/SP500.csv', parse_dates=['Date'])\n",
    "sp500 = sp500.set_index('Date')\n",
    "sp500 = sp500[['Close']]\n",
    "sp500.head()"
   ]
  },
  {
   "cell_type": "markdown",
   "metadata": {},
   "source": [
    "Traders often use moving averages when analysing the evolution of stock prices. Specifically, the 50-day moving average is the average price over the last 10 trading weeks, making it a commonly used support level. Likewise, the 200-day moving average represents the average price over the past 40 weeks, which is used to suggest a relatively cheap price compared to the price range over most of the past year.\n",
    "\n",
    "- Calculate the 50- and 200-day moving average and add the result as new columns in the DataFrame with names `MA50` and `MA200`, respectively."
   ]
  },
  {
   "cell_type": "code",
   "execution_count": 37,
   "metadata": {},
   "outputs": [
    {
     "data": {
      "text/html": [
       "<div>\n",
       "<style scoped>\n",
       "    .dataframe tbody tr th:only-of-type {\n",
       "        vertical-align: middle;\n",
       "    }\n",
       "\n",
       "    .dataframe tbody tr th {\n",
       "        vertical-align: top;\n",
       "    }\n",
       "\n",
       "    .dataframe thead th {\n",
       "        text-align: right;\n",
       "    }\n",
       "</style>\n",
       "<table border=\"1\" class=\"dataframe\">\n",
       "  <thead>\n",
       "    <tr style=\"text-align: right;\">\n",
       "      <th></th>\n",
       "      <th>Close</th>\n",
       "      <th>MA50</th>\n",
       "      <th>MA200</th>\n",
       "    </tr>\n",
       "    <tr>\n",
       "      <th>Date</th>\n",
       "      <th></th>\n",
       "      <th></th>\n",
       "      <th></th>\n",
       "    </tr>\n",
       "  </thead>\n",
       "  <tbody>\n",
       "    <tr>\n",
       "      <th>2009-12-31</th>\n",
       "      <td>1115.099976</td>\n",
       "      <td>NaN</td>\n",
       "      <td>NaN</td>\n",
       "    </tr>\n",
       "    <tr>\n",
       "      <th>2010-01-04</th>\n",
       "      <td>1132.989990</td>\n",
       "      <td>NaN</td>\n",
       "      <td>NaN</td>\n",
       "    </tr>\n",
       "    <tr>\n",
       "      <th>2010-01-05</th>\n",
       "      <td>1136.520020</td>\n",
       "      <td>NaN</td>\n",
       "      <td>NaN</td>\n",
       "    </tr>\n",
       "    <tr>\n",
       "      <th>2010-01-06</th>\n",
       "      <td>1137.140015</td>\n",
       "      <td>NaN</td>\n",
       "      <td>NaN</td>\n",
       "    </tr>\n",
       "    <tr>\n",
       "      <th>2010-01-07</th>\n",
       "      <td>1141.689941</td>\n",
       "      <td>NaN</td>\n",
       "      <td>NaN</td>\n",
       "    </tr>\n",
       "  </tbody>\n",
       "</table>\n",
       "</div>"
      ],
      "text/plain": [
       "                  Close  MA50  MA200\n",
       "Date                                \n",
       "2009-12-31  1115.099976   NaN    NaN\n",
       "2010-01-04  1132.989990   NaN    NaN\n",
       "2010-01-05  1136.520020   NaN    NaN\n",
       "2010-01-06  1137.140015   NaN    NaN\n",
       "2010-01-07  1141.689941   NaN    NaN"
      ]
     },
     "execution_count": 37,
     "metadata": {},
     "output_type": "execute_result"
    }
   ],
   "source": [
    "sp500['MA50'] = sp500['Close'].rolling(50).mean()\n",
    "sp500['MA200'] = sp500['Close'].rolling(200).mean()\n",
    "sp500.head()"
   ]
  },
  {
   "cell_type": "markdown",
   "metadata": {},
   "source": [
    "- Plot the S&P500 index with both moving averages\n"
   ]
  },
  {
   "cell_type": "code",
   "execution_count": 38,
   "metadata": {},
   "outputs": [
    {
     "data": {
      "text/plain": [
       "<AxesSubplot:xlabel='Date'>"
      ]
     },
     "execution_count": 38,
     "metadata": {},
     "output_type": "execute_result"
    },
    {
     "data": {
      "image/png": "[encoded data removed]",
      "text/plain": [
       "<Figure size 720x360 with 1 Axes>"
      ]
     },
     "metadata": {
      "needs_background": "light"
     },
     "output_type": "display_data"
    }
   ],
   "source": [
    "sp500.plot(y=['Close', 'MA50', 'MA200'], figsize=[10,5]) #Geen x='Date' want Date zit niet meer in sp500"
   ]
  },
  {
   "cell_type": "markdown",
   "metadata": {},
   "source": [
    "\n",
    "- In August 2011, stock markets across the world [saw a sharp drop in stock prices](https://en.wikipedia.org/wiki/August_2011_stock_markets_fall), due to the [European sovereign debt crisis](https://en.wikipedia.org/wiki/European_debt_crisis). Look for that drop in the plot.\n",
    "- After the 2011 stock markets fall, there are *two* occurrences of a golden cross.\n",
    "- Both occurrences mark the beginning of long periods with a *bull market* (characterized by rising prices). If possible, identify how long each period lasted, i.e. when does the `MA50` drops below `MA200` again?\n",
    "- Can you identify occurrences when the `MA200` effectively behaves like a support level?"
   ]
  },
  {
   "cell_type": "markdown",
   "metadata": {},
   "source": [
    "1.\n",
    "2. Wanneer shortterm average (geel) boven longterm (groen) komt\n",
    "3. Eind 2015\n",
    "4."
   ]
  },
  {
   "cell_type": "markdown",
   "metadata": {},
   "source": [
    "Using a span of 2, forecast the price of the index on the next trading day with the moving average method.\n",
    "How well does the moving average method with span 2 forecast the known observations in this series for the years = 2010 .. 2016\n",
    "Repeat part a with a span of 5; with a span of 15.\n",
    "Which of these three spans appears to be most appropriate?"
   ]
  },
  {
   "cell_type": "code",
   "execution_count": 39,
   "metadata": {},
   "outputs": [
    {
     "name": "stdout",
     "output_type": "stream",
     "text": [
      "Span is 2\n",
      "    2010 => 2566.8104264999993\n",
      "    2011 => 3610.710272499999\n",
      "    2012 => 2403.6461819999986\n",
      "    2013 => 2454.519897\n",
      "    2014 => 2863.5908809999987\n",
      "    2015 => 4140.076781499998\n",
      "    2016 => 3227.1790805\n",
      "Span is 5\n",
      "    2010 => 3570.3950171999986\n",
      "    2011 => 4763.4626552\n",
      "    2012 => 3286.765163599998\n",
      "    2013 => 3416.0466567999983\n",
      "    2014 => 4036.775367199997\n",
      "    2015 => 5019.865577800006\n",
      "    2016 => 4427.781545000001\n",
      "Span is 10\n",
      "    2010 => 4734.970718599999\n",
      "    2011 => 5794.079925599997\n",
      "    2012 => 4031.7922374999994\n",
      "    2013 => 4552.500248800003\n",
      "    2014 => 5345.134337499998\n",
      "    2015 => 6056.251891600001\n",
      "    2016 => 6033.123142300003\n"
     ]
    }
   ],
   "source": [
    "for j in (2, 5, 10):\n",
    "    print(f\"Span is {j}\")\n",
    "    sp500['MA'] =  sp500['Close'].rolling(j).mean()\n",
    "    sp500['Shift'] =  sp500['MA'].shift(1)\n",
    "    for i in range(2010, 2017):\n",
    "        result = abs(sp500[sp500.index.year==i]['Shift'] - sp500[sp500.index.year==i]['Close']).sum()\n",
    "        print(f'    {i} => {result}')"
   ]
  },
  {
   "cell_type": "markdown",
   "metadata": {},
   "source": [
    "\n",
    "Use Holt's exponential smoothing to forecast the data. Use the default smoothing constants of 0.1"
   ]
  },
  {
   "cell_type": "code",
   "execution_count": 42,
   "metadata": {},
   "outputs": [
    {
     "name": "stderr",
     "output_type": "stream",
     "text": [
      "C:\\Users\\jonad\\AppData\\Roaming\\Python\\Python310\\site-packages\\statsmodels\\tsa\\base\\tsa_model.py:471: ValueWarning: A date index has been provided, but it has no associated frequency information and so will be ignored when e.g. forecasting.\n",
      "  self._init_dates(dates, freq)\n"
     ]
    },
    {
     "ename": "ValueError",
     "evalue": "endog is required to have ndim 1 but has ndim 2",
     "output_type": "error",
     "traceback": [
      "\u001b[1;31m---------------------------------------------------------------------------\u001b[0m",
      "\u001b[1;31mValueError\u001b[0m                                Traceback (most recent call last)",
      "\u001b[1;32mc:\\Users\\jonad\\Documents\\Hogent\\Modeltraject_2\\DataScience&AI\\dsai-en-labs\\7-time-series\\lab-golden-cross.ipynb Cell 13'\u001b[0m in \u001b[0;36m<cell line: 3>\u001b[1;34m()\u001b[0m\n\u001b[0;32m      <a href='vscode-notebook-cell:/c%3A/Users/jonad/Documents/Hogent/Modeltraject_2/DataScience%26AI/dsai-en-labs/7-time-series/lab-golden-cross.ipynb#ch0000016?line=0'>1</a>\u001b[0m \u001b[39mfrom\u001b[39;00m \u001b[39mstatsmodels\u001b[39;00m\u001b[39m.\u001b[39;00m\u001b[39mtsa\u001b[39;00m\u001b[39m.\u001b[39;00m\u001b[39mapi\u001b[39;00m \u001b[39mimport\u001b[39;00m Holt\n\u001b[1;32m----> <a href='vscode-notebook-cell:/c%3A/Users/jonad/Documents/Hogent/Modeltraject_2/DataScience%26AI/dsai-en-labs/7-time-series/lab-golden-cross.ipynb#ch0000016?line=2'>3</a>\u001b[0m sp500_des \u001b[39m=\u001b[39m Holt(sp500[sp500\u001b[39m.\u001b[39;49mindex\u001b[39m.\u001b[39;49myear \u001b[39m==\u001b[39;49m \u001b[39m2010\u001b[39;49m])\u001b[39m.\u001b[39mfit(smoothing_level\u001b[39m=\u001b[39m\u001b[39m.1\u001b[39m, smoothing_trend\u001b[39m=\u001b[39m\u001b[39m.2\u001b[39m)\n\u001b[0;32m      <a href='vscode-notebook-cell:/c%3A/Users/jonad/Documents/Hogent/Modeltraject_2/DataScience%26AI/dsai-en-labs/7-time-series/lab-golden-cross.ipynb#ch0000016?line=4'>5</a>\u001b[0m sp500_fitted \u001b[39m=\u001b[39m sp500_des\u001b[39m.\u001b[39mfittedvalues\n\u001b[0;32m      <a href='vscode-notebook-cell:/c%3A/Users/jonad/Documents/Hogent/Modeltraject_2/DataScience%26AI/dsai-en-labs/7-time-series/lab-golden-cross.ipynb#ch0000016?line=5'>6</a>\u001b[0m np\u001b[39m.\u001b[39marray(sp500[sp500\u001b[39m.\u001b[39mindex\u001b[39m.\u001b[39myear \u001b[39m==\u001b[39m \u001b[39m2010\u001b[39m])\u001b[39m.\u001b[39mplot(legend\u001b[39m=\u001b[39m\u001b[39mTrue\u001b[39;00m, label\u001b[39m=\u001b[39m\u001b[39m'\u001b[39m\u001b[39mReal values\u001b[39m\u001b[39m'\u001b[39m)\n",
      "File \u001b[1;32m~\\AppData\\Roaming\\Python\\Python310\\site-packages\\pandas\\util\\_decorators.py:207\u001b[0m, in \u001b[0;36mdeprecate_kwarg.<locals>._deprecate_kwarg.<locals>.wrapper\u001b[1;34m(*args, **kwargs)\u001b[0m\n\u001b[0;32m    <a href='file:///~/AppData/Roaming/Python/Python310/site-packages/pandas/util/_decorators.py?line=204'>205</a>\u001b[0m     \u001b[39melse\u001b[39;00m:\n\u001b[0;32m    <a href='file:///~/AppData/Roaming/Python/Python310/site-packages/pandas/util/_decorators.py?line=205'>206</a>\u001b[0m         kwargs[new_arg_name] \u001b[39m=\u001b[39m new_arg_value\n\u001b[1;32m--> <a href='file:///~/AppData/Roaming/Python/Python310/site-packages/pandas/util/_decorators.py?line=206'>207</a>\u001b[0m \u001b[39mreturn\u001b[39;00m func(\u001b[39m*\u001b[39margs, \u001b[39m*\u001b[39m\u001b[39m*\u001b[39mkwargs)\n",
      "File \u001b[1;32m~\\AppData\\Roaming\\Python\\Python310\\site-packages\\statsmodels\\tsa\\holtwinters\\model.py:1694\u001b[0m, in \u001b[0;36mHolt.__init__\u001b[1;34m(self, endog, exponential, damped_trend, initialization_method, initial_level, initial_trend)\u001b[0m\n\u001b[0;32m   <a href='file:///~/AppData/Roaming/Python/Python310/site-packages/statsmodels/tsa/holtwinters/model.py?line=1682'>1683</a>\u001b[0m \u001b[39m@deprecate_kwarg\u001b[39m(\u001b[39m\"\u001b[39m\u001b[39mdamped\u001b[39m\u001b[39m\"\u001b[39m, \u001b[39m\"\u001b[39m\u001b[39mdamped_trend\u001b[39m\u001b[39m\"\u001b[39m)\n\u001b[0;32m   <a href='file:///~/AppData/Roaming/Python/Python310/site-packages/statsmodels/tsa/holtwinters/model.py?line=1683'>1684</a>\u001b[0m \u001b[39mdef\u001b[39;00m \u001b[39m__init__\u001b[39m(\n\u001b[0;32m   <a href='file:///~/AppData/Roaming/Python/Python310/site-packages/statsmodels/tsa/holtwinters/model.py?line=1684'>1685</a>\u001b[0m     \u001b[39mself\u001b[39m,\n\u001b[1;32m   (...)\u001b[0m\n\u001b[0;32m   <a href='file:///~/AppData/Roaming/Python/Python310/site-packages/statsmodels/tsa/holtwinters/model.py?line=1690'>1691</a>\u001b[0m     initial_trend\u001b[39m=\u001b[39m\u001b[39mNone\u001b[39;00m,\n\u001b[0;32m   <a href='file:///~/AppData/Roaming/Python/Python310/site-packages/statsmodels/tsa/holtwinters/model.py?line=1691'>1692</a>\u001b[0m ):\n\u001b[0;32m   <a href='file:///~/AppData/Roaming/Python/Python310/site-packages/statsmodels/tsa/holtwinters/model.py?line=1692'>1693</a>\u001b[0m     trend \u001b[39m=\u001b[39m \u001b[39m\"\u001b[39m\u001b[39mmul\u001b[39m\u001b[39m\"\u001b[39m \u001b[39mif\u001b[39;00m exponential \u001b[39melse\u001b[39;00m \u001b[39m\"\u001b[39m\u001b[39madd\u001b[39m\u001b[39m\"\u001b[39m\n\u001b[1;32m-> <a href='file:///~/AppData/Roaming/Python/Python310/site-packages/statsmodels/tsa/holtwinters/model.py?line=1693'>1694</a>\u001b[0m     \u001b[39msuper\u001b[39;49m()\u001b[39m.\u001b[39;49m\u001b[39m__init__\u001b[39;49m(\n\u001b[0;32m   <a href='file:///~/AppData/Roaming/Python/Python310/site-packages/statsmodels/tsa/holtwinters/model.py?line=1694'>1695</a>\u001b[0m         endog,\n\u001b[0;32m   <a href='file:///~/AppData/Roaming/Python/Python310/site-packages/statsmodels/tsa/holtwinters/model.py?line=1695'>1696</a>\u001b[0m         trend\u001b[39m=\u001b[39;49mtrend,\n\u001b[0;32m   <a href='file:///~/AppData/Roaming/Python/Python310/site-packages/statsmodels/tsa/holtwinters/model.py?line=1696'>1697</a>\u001b[0m         damped_trend\u001b[39m=\u001b[39;49mdamped_trend,\n\u001b[0;32m   <a href='file:///~/AppData/Roaming/Python/Python310/site-packages/statsmodels/tsa/holtwinters/model.py?line=1697'>1698</a>\u001b[0m         initialization_method\u001b[39m=\u001b[39;49minitialization_method,\n\u001b[0;32m   <a href='file:///~/AppData/Roaming/Python/Python310/site-packages/statsmodels/tsa/holtwinters/model.py?line=1698'>1699</a>\u001b[0m         initial_level\u001b[39m=\u001b[39;49minitial_level,\n\u001b[0;32m   <a href='file:///~/AppData/Roaming/Python/Python310/site-packages/statsmodels/tsa/holtwinters/model.py?line=1699'>1700</a>\u001b[0m         initial_trend\u001b[39m=\u001b[39;49minitial_trend,\n\u001b[0;32m   <a href='file:///~/AppData/Roaming/Python/Python310/site-packages/statsmodels/tsa/holtwinters/model.py?line=1700'>1701</a>\u001b[0m     )\n",
      "File \u001b[1;32m~\\AppData\\Roaming\\Python\\Python310\\site-packages\\pandas\\util\\_decorators.py:207\u001b[0m, in \u001b[0;36mdeprecate_kwarg.<locals>._deprecate_kwarg.<locals>.wrapper\u001b[1;34m(*args, **kwargs)\u001b[0m\n\u001b[0;32m    <a href='file:///~/AppData/Roaming/Python/Python310/site-packages/pandas/util/_decorators.py?line=204'>205</a>\u001b[0m     \u001b[39melse\u001b[39;00m:\n\u001b[0;32m    <a href='file:///~/AppData/Roaming/Python/Python310/site-packages/pandas/util/_decorators.py?line=205'>206</a>\u001b[0m         kwargs[new_arg_name] \u001b[39m=\u001b[39m new_arg_value\n\u001b[1;32m--> <a href='file:///~/AppData/Roaming/Python/Python310/site-packages/pandas/util/_decorators.py?line=206'>207</a>\u001b[0m \u001b[39mreturn\u001b[39;00m func(\u001b[39m*\u001b[39margs, \u001b[39m*\u001b[39m\u001b[39m*\u001b[39mkwargs)\n",
      "File \u001b[1;32m~\\AppData\\Roaming\\Python\\Python310\\site-packages\\statsmodels\\tsa\\holtwinters\\model.py:223\u001b[0m, in \u001b[0;36mExponentialSmoothing.__init__\u001b[1;34m(self, endog, trend, damped_trend, seasonal, seasonal_periods, initialization_method, initial_level, initial_trend, initial_seasonal, use_boxcox, bounds, dates, freq, missing)\u001b[0m\n\u001b[0;32m    <a href='file:///~/AppData/Roaming/Python/Python310/site-packages/statsmodels/tsa/holtwinters/model.py?line=202'>203</a>\u001b[0m \u001b[39m@deprecate_kwarg\u001b[39m(\u001b[39m\"\u001b[39m\u001b[39mdamped\u001b[39m\u001b[39m\"\u001b[39m, \u001b[39m\"\u001b[39m\u001b[39mdamped_trend\u001b[39m\u001b[39m\"\u001b[39m)\n\u001b[0;32m    <a href='file:///~/AppData/Roaming/Python/Python310/site-packages/statsmodels/tsa/holtwinters/model.py?line=203'>204</a>\u001b[0m \u001b[39mdef\u001b[39;00m \u001b[39m__init__\u001b[39m(\n\u001b[0;32m    <a href='file:///~/AppData/Roaming/Python/Python310/site-packages/statsmodels/tsa/holtwinters/model.py?line=204'>205</a>\u001b[0m     \u001b[39mself\u001b[39m,\n\u001b[1;32m   (...)\u001b[0m\n\u001b[0;32m    <a href='file:///~/AppData/Roaming/Python/Python310/site-packages/statsmodels/tsa/holtwinters/model.py?line=219'>220</a>\u001b[0m     missing\u001b[39m=\u001b[39m\u001b[39m\"\u001b[39m\u001b[39mnone\u001b[39m\u001b[39m\"\u001b[39m,\n\u001b[0;32m    <a href='file:///~/AppData/Roaming/Python/Python310/site-packages/statsmodels/tsa/holtwinters/model.py?line=220'>221</a>\u001b[0m ):\n\u001b[0;32m    <a href='file:///~/AppData/Roaming/Python/Python310/site-packages/statsmodels/tsa/holtwinters/model.py?line=221'>222</a>\u001b[0m     \u001b[39msuper\u001b[39m()\u001b[39m.\u001b[39m\u001b[39m__init__\u001b[39m(endog, \u001b[39mNone\u001b[39;00m, dates, freq, missing\u001b[39m=\u001b[39mmissing)\n\u001b[1;32m--> <a href='file:///~/AppData/Roaming/Python/Python310/site-packages/statsmodels/tsa/holtwinters/model.py?line=222'>223</a>\u001b[0m     \u001b[39mself\u001b[39m\u001b[39m.\u001b[39m_y \u001b[39m=\u001b[39m \u001b[39mself\u001b[39m\u001b[39m.\u001b[39m_data \u001b[39m=\u001b[39m array_like(\n\u001b[0;32m    <a href='file:///~/AppData/Roaming/Python/Python310/site-packages/statsmodels/tsa/holtwinters/model.py?line=223'>224</a>\u001b[0m         endog, \u001b[39m\"\u001b[39;49m\u001b[39mendog\u001b[39;49m\u001b[39m\"\u001b[39;49m, ndim\u001b[39m=\u001b[39;49m\u001b[39m1\u001b[39;49m, contiguous\u001b[39m=\u001b[39;49m\u001b[39mTrue\u001b[39;49;00m, order\u001b[39m=\u001b[39;49m\u001b[39m\"\u001b[39;49m\u001b[39mC\u001b[39;49m\u001b[39m\"\u001b[39;49m\n\u001b[0;32m    <a href='file:///~/AppData/Roaming/Python/Python310/site-packages/statsmodels/tsa/holtwinters/model.py?line=224'>225</a>\u001b[0m     )\n\u001b[0;32m    <a href='file:///~/AppData/Roaming/Python/Python310/site-packages/statsmodels/tsa/holtwinters/model.py?line=225'>226</a>\u001b[0m     options \u001b[39m=\u001b[39m (\u001b[39m\"\u001b[39m\u001b[39madd\u001b[39m\u001b[39m\"\u001b[39m, \u001b[39m\"\u001b[39m\u001b[39mmul\u001b[39m\u001b[39m\"\u001b[39m, \u001b[39m\"\u001b[39m\u001b[39madditive\u001b[39m\u001b[39m\"\u001b[39m, \u001b[39m\"\u001b[39m\u001b[39mmultiplicative\u001b[39m\u001b[39m\"\u001b[39m)\n\u001b[0;32m    <a href='file:///~/AppData/Roaming/Python/Python310/site-packages/statsmodels/tsa/holtwinters/model.py?line=226'>227</a>\u001b[0m     trend \u001b[39m=\u001b[39m string_like(trend, \u001b[39m\"\u001b[39m\u001b[39mtrend\u001b[39m\u001b[39m\"\u001b[39m, options\u001b[39m=\u001b[39moptions, optional\u001b[39m=\u001b[39m\u001b[39mTrue\u001b[39;00m)\n",
      "File \u001b[1;32m~\\AppData\\Roaming\\Python\\Python310\\site-packages\\statsmodels\\tools\\validation\\validation.py:147\u001b[0m, in \u001b[0;36marray_like\u001b[1;34m(obj, name, dtype, ndim, maxdim, shape, order, contiguous, optional)\u001b[0m\n\u001b[0;32m    <a href='file:///~/AppData/Roaming/Python/Python310/site-packages/statsmodels/tools/validation/validation.py?line=144'>145</a>\u001b[0m     \u001b[39mif\u001b[39;00m arr\u001b[39m.\u001b[39mndim \u001b[39m!=\u001b[39m ndim:\n\u001b[0;32m    <a href='file:///~/AppData/Roaming/Python/Python310/site-packages/statsmodels/tools/validation/validation.py?line=145'>146</a>\u001b[0m         msg \u001b[39m=\u001b[39m \u001b[39m\"\u001b[39m\u001b[39m{0}\u001b[39;00m\u001b[39m is required to have ndim \u001b[39m\u001b[39m{1}\u001b[39;00m\u001b[39m but has ndim \u001b[39m\u001b[39m{2}\u001b[39;00m\u001b[39m\"\u001b[39m\n\u001b[1;32m--> <a href='file:///~/AppData/Roaming/Python/Python310/site-packages/statsmodels/tools/validation/validation.py?line=146'>147</a>\u001b[0m         \u001b[39mraise\u001b[39;00m \u001b[39mValueError\u001b[39;00m(msg\u001b[39m.\u001b[39mformat(name, ndim, arr\u001b[39m.\u001b[39mndim))\n\u001b[0;32m    <a href='file:///~/AppData/Roaming/Python/Python310/site-packages/statsmodels/tools/validation/validation.py?line=147'>148</a>\u001b[0m \u001b[39mif\u001b[39;00m shape \u001b[39mis\u001b[39;00m \u001b[39mnot\u001b[39;00m \u001b[39mNone\u001b[39;00m:\n\u001b[0;32m    <a href='file:///~/AppData/Roaming/Python/Python310/site-packages/statsmodels/tools/validation/validation.py?line=148'>149</a>\u001b[0m     \u001b[39mfor\u001b[39;00m actual, req \u001b[39min\u001b[39;00m \u001b[39mzip\u001b[39m(arr\u001b[39m.\u001b[39mshape, shape):\n",
      "\u001b[1;31mValueError\u001b[0m: endog is required to have ndim 1 but has ndim 2"
     ]
    }
   ],
   "source": [
    "from statsmodels.tsa.api import Holt\n",
    "\n",
    "sp500_des = Holt(sp500[sp500.index.year == 2010]['Close']).fit(smoothing_level=.1, smoothing_trend=.2)\n",
    "\n",
    "sp500_fitted = sp500_des.fittedvalues\n",
    "np.array(sp500[sp500.index.year == 2010]).plot(legend=True, label='Real values')\n",
    "sp500_fitted.plot(legend=True, label='Estemated values')"
   ]
  },
  {
   "cell_type": "markdown",
   "metadata": {},
   "source": [
    "## References\n",
    "\n",
    "Hoseinzade, E., & Haratizadeh, S. (2019-09). *CNNpred: CNN-based stock market prediction using a diverse set of variables.* Expert Systems with Applications, **129,** pp. 273–285. https://doi.org/10.1016/j.eswa.2019.03.029"
   ]
  }
 ],
 "metadata": {
  "interpreter": {
   "hash": "2be5faf79681da6f2a61fdfdd5405d65d042280f7fba6178067603e3a2925119"
  },
  "kernelspec": {
   "display_name": "Python 3.10.0 64-bit",
   "language": "python",
   "name": "python3"
  },
  "language_info": {
   "codemirror_mode": {
    "name": "ipython",
    "version": 3
   },
   "file_extension": ".py",
   "mimetype": "text/x-python",
   "name": "python",
   "nbconvert_exporter": "python",
   "pygments_lexer": "ipython3",
   "version": "3.10.0"
  },
  "orig_nbformat": 4
 },
 "nbformat": 4,
 "nbformat_minor": 2
}
