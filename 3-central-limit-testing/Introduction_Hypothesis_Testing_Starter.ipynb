{
  "cells": [
    {
      "cell_type": "markdown",
      "metadata": {
        "id": "EF33Lm3CILNx"
      },
      "source": [
        "# Module 3 - Introduction Statistical Hypothesis testing\n"
      ]
    },
    {
      "cell_type": "code",
      "execution_count": 1,
      "metadata": {
        "id": "H9JeFRiBILN2"
      },
      "outputs": [],
      "source": [
        "# Importing the necessary packages\n",
        "import numpy as np                                  # \"Scientific computing\"\n",
        "import scipy.stats as stats                         # Statistical tests\n",
        "\n",
        "import random\n",
        "import math\n",
        "\n",
        "import pandas as pd                                 # Data Frame\n",
        "from pandas.api.types import CategoricalDtype\n",
        "\n",
        "import matplotlib.pyplot as plt                     # Basic visualisation\n",
        "from statsmodels.graphics.mosaicplot import mosaic  # Mosaic diagram\n",
        "import seaborn as sns                               # Advanced data visualisation\n",
        "import altair as alt                                # Alternative visualisation system"
      ]
    },
    {
      "cell_type": "markdown",
      "metadata": {
        "id": "yKjui5DD2WxI"
      },
      "source": [
        "**Example 1**  \n",
        "Jars of jam are filled by a machine. It has been found that the quantity of jam in a jar is normally distributed and has mean 351.2g, with standard deviation 4.1g. It is believed that the settings of the mean amount on the machine might have been altered accidentally.\n",
        "To test this a random sample of 40 jars is taken and the mean quantity per jar is calculated. Assume that the standard deviation has not been altered."
      ]
    },
    {
      "cell_type": "markdown",
      "metadata": {
        "id": "si3OG5DvHvm3"
      },
      "source": [
        "### The right-tailed $z$-test\n",
        "\n",
        "The mean quantity per jar is found to be 352.8g."
      ]
    },
    {
      "cell_type": "markdown",
      "metadata": {
        "id": "2HVmMiXSCiRc"
      },
      "source": [
        "Plot"
      ]
    },
    {
      "cell_type": "code",
      "execution_count": 4,
      "metadata": {
        "colab": {
          "base_uri": "https://localhost:8080/",
          "height": 283
        },
        "id": "-uFFpKti9rHR",
        "outputId": "48fe8011-4336-4fa9-c623-617a8ec8135f"
      },
      "outputs": [
        {
          "data": {
            "text/plain": [
              "<matplotlib.lines.Line2D at 0x243b141a470>"
            ]
          },
          "execution_count": 4,
          "metadata": {},
          "output_type": "execute_result"
        },
        {
          "data": {
            "image/png": "[encoded data removed]",
            "text/plain": [
              "<Figure size 432x288 with 1 Axes>"
            ]
          },
          "metadata": {
            "needs_background": "light"
          },
          "output_type": "display_data"
        }
      ],
      "source": [
        "n = 40\n",
        "m = 351.2\n",
        "s = 4.1\n",
        "m_sample = 352.8\n",
        "s_sample = s / math.sqrt(n)\n",
        "\n",
        "# X-values\n",
        "dist_x = np.linspace(m - 4 * s_sample, m + 4 * s_sample, num=201)\n",
        "# Y-values for drawing the Gauss curve\n",
        "dist_y = stats.norm.pdf(dist_x, m, s_sample)\n",
        "# Plot the Gauss-curve\n",
        "plt.plot(dist_x, dist_y)\n",
        "\n",
        "# Fill the area left of x\n",
        "plt.fill_between(dist_x, 0, dist_y, where=(dist_x >= m_sample), color='lightblue')\n",
        "# Show the mean with an orange line\n",
        "plt.axvline(m_sample, color=\"blue\")"
      ]
    },
    {
      "cell_type": "markdown",
      "metadata": {
        "id": "nxFRjvEli_Lk"
      },
      "source": [
        "Method 1"
      ]
    },
    {
      "cell_type": "code",
      "execution_count": 5,
      "metadata": {
        "id": "9CvBvc2HjAwS"
      },
      "outputs": [
        {
          "name": "stdout",
          "output_type": "stream",
          "text": [
            " 0.006791255041867345\n"
          ]
        }
      ],
      "source": [
        "p_value = stats.norm.sf(m_sample, loc = m, scale = s_sample)\n",
        "print(f\"p_value is {p_value}\")"
      ]
    },
    {
      "cell_type": "markdown",
      "metadata": {
        "id": "YYx8tj-qClVg"
      },
      "source": [
        "Method 2"
      ]
    },
    {
      "cell_type": "code",
      "execution_count": 6,
      "metadata": {
        "id": "G4vau8IXBY17"
      },
      "outputs": [
        {
          "name": "stdout",
          "output_type": "stream",
          "text": [
            "g_value is 352.26630419514487\n"
          ]
        }
      ],
      "source": [
        "g_value = stats.norm.isf(0.05, loc = m, scale = s_sample)\n",
        "print(f\"g_value is {g_value}\")"
      ]
    },
    {
      "cell_type": "markdown",
      "metadata": {
        "id": "JQx3pxwK2v6n"
      },
      "source": [
        "### The left-tailed $z$-test\n",
        "\n",
        "The mean quantity per jar is found to be 350.4g."
      ]
    },
    {
      "cell_type": "markdown",
      "metadata": {
        "id": "fyUFk3l62249"
      },
      "source": [
        "Method 1"
      ]
    },
    {
      "cell_type": "code",
      "execution_count": null,
      "metadata": {
        "id": "NrmFkCcA232G"
      },
      "outputs": [],
      "source": []
    },
    {
      "cell_type": "markdown",
      "metadata": {
        "id": "jd2-ukAY24RR"
      },
      "source": [
        "Method 2"
      ]
    },
    {
      "cell_type": "code",
      "execution_count": null,
      "metadata": {
        "id": "NaeB1QRB25WW"
      },
      "outputs": [],
      "source": []
    },
    {
      "cell_type": "markdown",
      "metadata": {
        "id": "jtJyX_Fi3AN-"
      },
      "source": [
        "### The two-tailed $z$-test\n",
        "\n",
        "The mean quantity per jar is found to be 351.4g."
      ]
    },
    {
      "cell_type": "markdown",
      "metadata": {
        "id": "YPQH_YrB3EBf"
      },
      "source": [
        "Method 1"
      ]
    },
    {
      "cell_type": "code",
      "execution_count": null,
      "metadata": {
        "id": "CBibeMI13FFV"
      },
      "outputs": [],
      "source": []
    },
    {
      "cell_type": "markdown",
      "metadata": {
        "id": "iSQaV6AY3FqF"
      },
      "source": [
        "Method 2"
      ]
    },
    {
      "cell_type": "code",
      "execution_count": null,
      "metadata": {
        "id": "ww-sAMHO3G29"
      },
      "outputs": [],
      "source": []
    },
    {
      "cell_type": "markdown",
      "metadata": {
        "id": "qephrXFKKYIr"
      },
      "source": [
        "**Definitions**  \n",
        "\n",
        "**Hypothesis** = Idea that has yet to be proven: statement regarding the\n",
        "numeric value of a population parameter  \n",
        "**Hypothesis Test** = verification of a statement about the values of one or\n",
        "multiple population parameters  \n",
        "**Null Hypothesis $H_0$** Base hypothesis, we start with assuming it is true.   \n",
        "**Alternative Hypothesis ($H_1$, $H_a$)** Conclusion if the null hypothesis is\n",
        "unlikely to be true.  \n",
        "Take care in the language that you use. \n",
        "* If you accept $H_0$, never say that this is because the evidence supports it. You can only conclude there is not significant evidence against $H_0$.\n",
        "* If you reject $H_0$, say that there is evidence that the mean of the probability is not ...  \n",
        "\n",
        "The basis of *all* tests is to see if the statistic calculated from the observations lies in the most extreme part of this distribution - called the **critical region**, or the **rejection region**.  \n",
        "You reject $H_0$ if the observed value lies in this region. All other values lie in the **acceptance region** of the test. The probability of this happening when $H_0$ is actually true is called the size of the test. You use 5% as the common default size.\n",
        "\n",
        "**Critical region** or **rejection region** = The region of values rejecting the null hypothesis.  \n",
        "**Acceptance region** = The region of values supporting the null hypothesis.  \n",
        "**Critical value g** = Boundary of the critical region\n",
        "\n",
        "The principle of **hypothesis testing** is to compare where the value of an observed statistic (the **test statistic**) lies within the sampling distribution under the null hypothesis.  \n",
        "If it would be classed as a 'rare event' (and the **significance level of a test** is whatever level we use to judge 'rare') then you look for an alternative explanation.\n",
        "\n",
        "**Type I error**  \n",
        "The null hypothesis is actually true and you reject it.  \n",
        "\n",
        "**Type II error**  \n",
        "You accept the null hypothesis and it was not true"
      ]
    },
    {
      "cell_type": "markdown",
      "metadata": {
        "id": "hVRwBDCND1XQ"
      },
      "source": [
        "\n",
        "**Requirements for 𝑧-test**  \n",
        "● The sample needs to be random  \n",
        "● The sample size needs to be sufficiently large (𝑛 ≥ 30)  \n",
        "● The test statistic needs to have a normal distribution  \n",
        "● The standard deviation of the population, 𝜎, is known  \n",
        "Sometimes these assumptions will not hold and in this case we can not\n",
        "use the 𝑍-test!"
      ]
    },
    {
      "cell_type": "markdown",
      "metadata": {
        "id": "fscBgVDvKVGI"
      },
      "source": [
        "**Example 2**  \n",
        "The pulse of healthy young adults can be modelled by a normal distribution with mean 80 and standard deviation 9. It is thought that trained athletes may have lower pulse rates than usual.  \n",
        "A random sample of 12 trained athletes is taken and their pulses are recorded: 48, 52, 59, 45, 57, 52, 44, 58, 56, 44, 63, 50.  \n",
        "Test at the 5% level of significance whether trained athletes have lower pulse rates than normal healthy young adults."
      ]
    },
    {
      "cell_type": "code",
      "execution_count": 7,
      "metadata": {
        "id": "uVJudynxaJRI"
      },
      "outputs": [
        {
          "name": "stdout",
          "output_type": "stream",
          "text": [
            "52.333333333333336\n"
          ]
        }
      ],
      "source": [
        "pulses = [48, 52, 59, 45, 57, 52, 44, 58, 56, 44, 63, 50]\n",
        "n = len(pulses)\n",
        "m = 80\n",
        "s = 9\n",
        "m_sample = np.mean(pulses)\n",
        "s_sample = np.std(pulses, ddof= 1)\n",
        "\n",
        "print(m_sample)"
      ]
    },
    {
      "cell_type": "code",
      "execution_count": 18,
      "metadata": {
        "id": "BeiWLixW4IYx"
      },
      "outputs": [
        {
          "name": "stdout",
          "output_type": "stream",
          "text": [
            "p_value is 5.283891352937751e-09\n"
          ]
        },
        {
          "data": {
            "image/png": "[encoded data removed]",
            "text/plain": [
              "<Figure size 432x288 with 1 Axes>"
            ]
          },
          "metadata": {
            "needs_background": "light"
          },
          "output_type": "display_data"
        }
      ],
      "source": [
        "# T-verdeling want sample is te klein\n",
        "# X-values\n",
        "dist_x = np.linspace(m - 4 * s_sample, m + 4 * s_sample, num=201)\n",
        "# Y-values for drawing the Gauss curve\n",
        "dist_y = stats.t.pdf(dist_x, loc = m, scale = s_sample / math.sqrt(n), df= n - 1)\n",
        "# Plot the Gauss-curve\n",
        "plt.plot(dist_x, dist_y)\n",
        "\n",
        "# Fill the area left of x\n",
        "plt.fill_between(dist_x, 0, dist_y, where=(dist_x <= m_sample), color='lightblue')\n",
        "# Show the mean with an orange line\n",
        "plt.axvline(m_sample, color=\"blue\")\n",
        "\n",
        "p_value = stats.t.cdf(m_sample, loc = m, scale = s_sample / math.sqrt(n), df = n-1)\n",
        "print(f\"p_value is {p_value}\")"
      ]
    },
    {
      "cell_type": "code",
      "execution_count": 20,
      "metadata": {},
      "outputs": [
        {
          "name": "stdout",
          "output_type": "stream",
          "text": [
            "g_value is 76.71125709804512\n"
          ]
        }
      ],
      "source": [
        "g_value = stats.t.isf(0.95, loc = m, scale = s_sample / math.sqrt(n), df = n-1)\n",
        "print(f\"g_value is {g_value}\")"
      ]
    }
  ],
  "metadata": {
    "colab": {
      "collapsed_sections": [],
      "name": "Introduction Hypothesis Testing Starter.ipynb",
      "provenance": []
    },
    "kernelspec": {
      "display_name": "Python 3.9.1 64-bit",
      "metadata": {
        "interpreter": {
          "hash": "767d51c1340bd893661ea55ea3124f6de3c7a262a8b4abca0554b478b1e2ff90"
        }
      },
      "name": "python3"
    },
    "language_info": {
      "codemirror_mode": {
        "name": "ipython",
        "version": 3
      },
      "file_extension": ".py",
      "mimetype": "text/x-python",
      "name": "python",
      "nbconvert_exporter": "python",
      "pygments_lexer": "ipython3",
      "version": "3.10.0"
    },
    "orig_nbformat": 2
  },
  "nbformat": 4,
  "nbformat_minor": 0
}
